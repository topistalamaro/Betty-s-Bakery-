{
 "cells": [
  {
   "cell_type": "code",
   "execution_count": null,
   "metadata": {},
   "outputs": [],
   "source": [
    "import numpy as np\n",
    "cupcakes = np.array([2, 0.75, 2, 1, 0.5])\n",
    "recipes = np.genfromtxt(\"recipes.csv\", delimiter = \",\")\n",
    "print(recipes)\n",
    "\n",
    "eggs = recipes[:,2]\n",
    "one_egg = recipes[(eggs == 1)]\n",
    "print(\"\")\n",
    "print(one_egg)\n",
    "\n",
    "cookies = recipes[2, :]\n",
    "double_batch = cupcakes*2\n",
    "grocery_list = cookies + double_batch\n",
    "\n",
    "print(\"\")\n",
    "print(grocery_list)\n",
    "\n",
    "\n",
    "\n",
    "\n",
    "\n",
    "\n",
    "\n",
    "\n",
    "\n",
    "\n",
    "\n",
    "\n",
    "\n",
    "\n",
    "\n",
    "\n",
    "\n",
    "\n",
    "\n",
    "\n",
    "\n",
    "\n"
   ]
  }
 ],
 "metadata": {
  "kernelspec": {
   "display_name": "Python 3",
   "language": "python",
   "name": "python3"
  },
  "language_info": {
   "codemirror_mode": {
    "name": "ipython",
    "version": 3
   },
   "file_extension": ".py",
   "mimetype": "text/x-python",
   "name": "python",
   "nbconvert_exporter": "python",
   "pygments_lexer": "ipython3",
   "version": "3.8.5"
  }
 },
 "nbformat": 4,
 "nbformat_minor": 4
}
